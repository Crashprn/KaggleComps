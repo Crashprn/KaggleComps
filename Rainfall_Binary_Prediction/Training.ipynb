{
 "cells": [
  {
   "cell_type": "markdown",
   "metadata": {},
   "source": [
    "## Imports"
   ]
  },
  {
   "cell_type": "code",
   "execution_count": 50,
   "metadata": {},
   "outputs": [],
   "source": [
    "import numpy as np\n",
    "import pandas as pd\n",
    "\n",
    "import matplotlib.pyplot as plt\n",
    "\n",
    "import sklearn\n",
    "\n",
    "from sklearn.metrics import accuracy_score, roc_auc_score, confusion_matrix, f1_score, precision_score, recall_score\n",
    "\n",
    "from sklearn.preprocessing import MinMaxScaler\n",
    "from sklearn.model_selection import train_test_split\n",
    "\n",
    "import torch"
   ]
  },
  {
   "cell_type": "code",
   "execution_count": 57,
   "metadata": {},
   "outputs": [
    {
     "name": "stdout",
     "output_type": "stream",
     "text": [
      "<class 'pandas.core.frame.DataFrame'>\n",
      "Index: 730 entries, 0 to 729\n",
      "Data columns (total 17 columns):\n",
      " #   Column             Non-Null Count  Dtype  \n",
      "---  ------             --------------  -----  \n",
      " 0   id                 730 non-null    int64  \n",
      " 1   day                730 non-null    int64  \n",
      " 2   pressure           730 non-null    float64\n",
      " 3   maxtemp            730 non-null    float64\n",
      " 4   temparature        730 non-null    float64\n",
      " 5   mintemp            730 non-null    float64\n",
      " 6   dewpoint           730 non-null    float64\n",
      " 7   humidity           730 non-null    float64\n",
      " 8   cloud              730 non-null    float64\n",
      " 9   sunshine           730 non-null    float64\n",
      " 10  winddirection      730 non-null    float64\n",
      " 11  windspeed          730 non-null    float64\n",
      " 12  rainfall           730 non-null    float64\n",
      " 13  month              730 non-null    int64  \n",
      " 14  day_of_month       730 non-null    int64  \n",
      " 15  rainfall_lag_730   730 non-null    float64\n",
      " 16  rainfall_lag_1095  730 non-null    float64\n",
      "dtypes: float64(13), int64(4)\n",
      "memory usage: 102.7 KB\n"
     ]
    },
    {
     "data": {
      "text/plain": [
       "None"
      ]
     },
     "metadata": {},
     "output_type": "display_data"
    }
   ],
   "source": [
    "## Loading test and train data\n",
    "train_df = pd.read_csv(\"data/train_with_features.csv\", index_col=0)\n",
    "\n",
    "test_df = pd.read_csv(\"data/test_with_features.csv\", index_col=0)\n",
    "\n",
    "target_cols = ['rainfall']\n",
    "feature_cols = [col for col in train_df.columns if col not in target_cols + ['id']]\n",
    "\n",
    "display(test_df.info())"
   ]
  },
  {
   "cell_type": "markdown",
   "metadata": {},
   "source": [
    "## Normalizing with min max scaler because all columns have an upper bound"
   ]
  },
  {
   "cell_type": "code",
   "execution_count": 58,
   "metadata": {},
   "outputs": [],
   "source": [
    "scaler = MinMaxScaler().fit(train_df[feature_cols].copy())\n",
    "\n",
    "train_df[feature_cols] = scaler.transform(train_df[feature_cols].copy())\n",
    "test_df[feature_cols] = scaler.transform(test_df[feature_cols].copy())\n"
   ]
  },
  {
   "cell_type": "markdown",
   "metadata": {},
   "source": [
    "## Random Forest Classifier"
   ]
  },
  {
   "cell_type": "code",
   "execution_count": 78,
   "metadata": {},
   "outputs": [
    {
     "name": "stdout",
     "output_type": "stream",
     "text": [
      "Cross-validation scores:\n",
      "fit_time: 3.9057 ± 0.2350\n",
      "score_time: 0.1810 ± 0.0098\n",
      "test_accuracy: 0.8644 ± 0.0139\n",
      "test_f1: 0.9121 ± 0.0083\n",
      "test_recall: 0.9327 ± 0.0023\n",
      "test_precision: 0.8924 ± 0.0152\n",
      "test_roc_auc: 0.8843 ± 0.0200\n",
      "ROC AUC score on train: 0.9906\n"
     ]
    }
   ],
   "source": [
    "from sklearn.ensemble import RandomForestClassifier\n",
    "from sklearn.model_selection import cross_validate\n",
    "\n",
    "model = RandomForestClassifier(n_estimators=2000, max_depth=10, random_state=42)\n",
    "\n",
    "scorings = ['accuracy', 'f1', 'recall', 'precision', 'roc_auc']\n",
    "\n",
    "cross_val_scores = cross_validate(model, train_df[feature_cols], train_df[target_cols].values.flatten(), cv=5, scoring=scorings, n_jobs=4, return_estimator=True)\n",
    "\n",
    "print('Cross-validation scores:')\n",
    "for scoring, score in cross_val_scores.items():\n",
    "    if scoring == 'estimator':\n",
    "        continue\n",
    "    print(f'{scoring}: {score.mean():.4f} ± {score.std():.4f}')\n",
    "\n",
    "test_preds = []\n",
    "train_preds = []\n",
    "\n",
    "for model in cross_val_scores['estimator']:\n",
    "    train_preds.append(model.predict_proba(train_df[feature_cols])[:, 1])\n",
    "    test_preds.append(model.predict_proba(test_df[feature_cols])[:, 1])\n",
    "\n",
    "test_preds = np.array(test_preds).mean(axis=0)\n",
    "train_preds = np.array(train_preds).mean(axis=0)\n",
    "\n",
    "print(f'ROC AUC score on train: {roc_auc_score(train_df[target_cols], train_preds):.4f}')\n",
    "\n",
    "test_df['rf_rainfall'] = test_preds"
   ]
  },
  {
   "cell_type": "markdown",
   "metadata": {},
   "source": [
    "## XGBoost"
   ]
  },
  {
   "cell_type": "code",
   "execution_count": 77,
   "metadata": {},
   "outputs": [
    {
     "name": "stdout",
     "output_type": "stream",
     "text": [
      "Cross-validation scores:\n",
      "fit_time: 0.5387 ± 0.1180\n",
      "score_time: 0.0179 ± 0.0043\n",
      "test_accuracy: 0.8511 ± 0.0089\n",
      "test_f1: 0.9033 ± 0.0051\n",
      "test_recall: 0.9224 ± 0.0104\n",
      "test_precision: 0.8852 ± 0.0144\n",
      "test_roc_auc: 0.8597 ± 0.0179\n",
      "ROC AUC score on train: 1.0000\n"
     ]
    }
   ],
   "source": [
    "from xgboost import XGBClassifier\n",
    "\n",
    "model = XGBClassifier(n_estimators=2000, max_depth=5, random_state=42)\n",
    "\n",
    "cross_val_scores = cross_validate(model, train_df[feature_cols], train_df[target_cols].values, cv=5, scoring=scorings, n_jobs=4, return_estimator=True)\n",
    "\n",
    "print('Cross-validation scores:')\n",
    "for scoring, score in cross_val_scores.items():\n",
    "    if scoring == 'estimator':\n",
    "        continue\n",
    "    print(f'{scoring}: {score.mean():.4f} ± {score.std():.4f}')\n",
    "\n",
    "test_preds = []\n",
    "train_preds = []\n",
    "\n",
    "for model in cross_val_scores['estimator']:\n",
    "    train_preds.append(model.predict_proba(train_df[feature_cols])[:, 1])\n",
    "    test_preds.append(model.predict_proba(test_df[feature_cols])[:, 1])\n",
    "\n",
    "test_preds = np.array(test_preds).mean(axis=0)\n",
    "train_preds = np.array(train_preds).mean(axis=0)\n",
    "\n",
    "print(f'ROC AUC score on train: {roc_auc_score(train_df[target_cols], train_preds):.4f}')\n",
    "\n",
    "test_df['xgb_rainfall'] = test_preds\n"
   ]
  },
  {
   "cell_type": "markdown",
   "metadata": {},
   "source": [
    "## KNN Classifier"
   ]
  },
  {
   "cell_type": "code",
   "execution_count": 75,
   "metadata": {},
   "outputs": [
    {
     "name": "stdout",
     "output_type": "stream",
     "text": [
      "Cross-validation scores:\n",
      "fit_time: 0.0027 ± 0.0001\n",
      "score_time: 0.0580 ± 0.0023\n",
      "test_accuracy: 0.8338 ± 0.0191\n",
      "test_f1: 0.8986 ± 0.0106\n",
      "test_recall: 0.9764 ± 0.0023\n",
      "test_precision: 0.8325 ± 0.0172\n",
      "test_roc_auc: 0.8697 ± 0.0165\n",
      "ROC AUC score on train: 0.8832\n"
     ]
    }
   ],
   "source": [
    "from sklearn.neighbors import KNeighborsClassifier\n",
    "\n",
    "model = KNeighborsClassifier(n_neighbors=100, n_jobs=4, p=1)\n",
    "cross_val_scores = cross_validate(model, train_df[feature_cols], train_df[target_cols].values.flatten(), cv=5, scoring=scorings, n_jobs=4, return_estimator=True)\n",
    "\n",
    "print('Cross-validation scores:')\n",
    "for scoring, score in cross_val_scores.items():\n",
    "    if scoring == 'estimator':\n",
    "        continue\n",
    "    print(f'{scoring}: {score.mean():.4f} ± {score.std():.4f}')\n",
    "\n",
    "\n",
    "test_preds = []\n",
    "train_preds = []\n",
    "\n",
    "for model in cross_val_scores['estimator']:\n",
    "    train_preds.append(model.predict_proba(train_df[feature_cols])[:, 1])\n",
    "    test_preds.append(model.predict_proba(test_df[feature_cols])[:, 1])\n",
    "\n",
    "test_preds = np.array(test_preds).mean(axis=0)\n",
    "train_preds = np.array(train_preds).mean(axis=0)\n",
    "\n",
    "print(f'ROC AUC score on train: {roc_auc_score(train_df[target_cols], train_preds):.4f}')\n",
    "\n",
    "test_df['knn_rainfall'] = test_preds\n"
   ]
  },
  {
   "cell_type": "markdown",
   "metadata": {},
   "source": [
    "## Trying Ensemble of Predictors Prediction"
   ]
  },
  {
   "cell_type": "code",
   "execution_count": null,
   "metadata": {},
   "outputs": [
    {
     "data": {
      "application/vnd.microsoft.datawrangler.viewer.v0+json": {
       "columns": [
        {
         "name": "index",
         "rawType": "int64",
         "type": "integer"
        },
        {
         "name": "id",
         "rawType": "int64",
         "type": "integer"
        },
        {
         "name": "rainfall",
         "rawType": "float64",
         "type": "float"
        }
       ],
       "conversionMethod": "pd.DataFrame",
       "ref": "6f2dfa58-4a6c-40a6-a4b9-06fd5f576eab",
       "rows": [
        [
         "0",
         "2190",
         "0.9643835616438357"
        ],
        [
         "1",
         "2191",
         "0.9643835616438357"
        ],
        [
         "2",
         "2192",
         "0.9643835616438357"
        ],
        [
         "3",
         "2193",
         "0.08767123287671233"
        ],
        [
         "4",
         "2194",
         "0.022602739726027398"
        ],
        [
         "5",
         "2195",
         "0.7232876712328767"
        ],
        [
         "6",
         "2196",
         "0.8061643835616439"
        ],
        [
         "7",
         "2197",
         "0.9643835616438357"
        ],
        [
         "8",
         "2198",
         "0.8842465753424658"
        ],
        [
         "9",
         "2199",
         "0.739041095890411"
        ],
        [
         "10",
         "2200",
         "0.9643835616438357"
        ],
        [
         "11",
         "2201",
         "0.05684931506849315"
        ],
        [
         "12",
         "2202",
         "0.9643835616438357"
        ],
        [
         "13",
         "2203",
         "0.9643835616438357"
        ],
        [
         "14",
         "2204",
         "0.17191780821917807"
        ],
        [
         "15",
         "2205",
         "0.005479452054794521"
        ],
        [
         "16",
         "2206",
         "0.35205479452054794"
        ],
        [
         "17",
         "2207",
         "0.363013698630137"
        ],
        [
         "18",
         "2208",
         "0.03287671232876712"
        ],
        [
         "19",
         "2209",
         "0.022602739726027398"
        ]
       ],
       "shape": {
        "columns": 2,
        "rows": 20
       }
      },
      "text/html": [
       "<div>\n",
       "<style scoped>\n",
       "    .dataframe tbody tr th:only-of-type {\n",
       "        vertical-align: middle;\n",
       "    }\n",
       "\n",
       "    .dataframe tbody tr th {\n",
       "        vertical-align: top;\n",
       "    }\n",
       "\n",
       "    .dataframe thead th {\n",
       "        text-align: right;\n",
       "    }\n",
       "</style>\n",
       "<table border=\"1\" class=\"dataframe\">\n",
       "  <thead>\n",
       "    <tr style=\"text-align: right;\">\n",
       "      <th></th>\n",
       "      <th>id</th>\n",
       "      <th>rainfall</th>\n",
       "    </tr>\n",
       "  </thead>\n",
       "  <tbody>\n",
       "    <tr>\n",
       "      <th>0</th>\n",
       "      <td>2190</td>\n",
       "      <td>0.964384</td>\n",
       "    </tr>\n",
       "    <tr>\n",
       "      <th>1</th>\n",
       "      <td>2191</td>\n",
       "      <td>0.964384</td>\n",
       "    </tr>\n",
       "    <tr>\n",
       "      <th>2</th>\n",
       "      <td>2192</td>\n",
       "      <td>0.964384</td>\n",
       "    </tr>\n",
       "    <tr>\n",
       "      <th>3</th>\n",
       "      <td>2193</td>\n",
       "      <td>0.087671</td>\n",
       "    </tr>\n",
       "    <tr>\n",
       "      <th>4</th>\n",
       "      <td>2194</td>\n",
       "      <td>0.022603</td>\n",
       "    </tr>\n",
       "    <tr>\n",
       "      <th>5</th>\n",
       "      <td>2195</td>\n",
       "      <td>0.723288</td>\n",
       "    </tr>\n",
       "    <tr>\n",
       "      <th>6</th>\n",
       "      <td>2196</td>\n",
       "      <td>0.806164</td>\n",
       "    </tr>\n",
       "    <tr>\n",
       "      <th>7</th>\n",
       "      <td>2197</td>\n",
       "      <td>0.964384</td>\n",
       "    </tr>\n",
       "    <tr>\n",
       "      <th>8</th>\n",
       "      <td>2198</td>\n",
       "      <td>0.884247</td>\n",
       "    </tr>\n",
       "    <tr>\n",
       "      <th>9</th>\n",
       "      <td>2199</td>\n",
       "      <td>0.739041</td>\n",
       "    </tr>\n",
       "    <tr>\n",
       "      <th>10</th>\n",
       "      <td>2200</td>\n",
       "      <td>0.964384</td>\n",
       "    </tr>\n",
       "    <tr>\n",
       "      <th>11</th>\n",
       "      <td>2201</td>\n",
       "      <td>0.056849</td>\n",
       "    </tr>\n",
       "    <tr>\n",
       "      <th>12</th>\n",
       "      <td>2202</td>\n",
       "      <td>0.964384</td>\n",
       "    </tr>\n",
       "    <tr>\n",
       "      <th>13</th>\n",
       "      <td>2203</td>\n",
       "      <td>0.964384</td>\n",
       "    </tr>\n",
       "    <tr>\n",
       "      <th>14</th>\n",
       "      <td>2204</td>\n",
       "      <td>0.171918</td>\n",
       "    </tr>\n",
       "    <tr>\n",
       "      <th>15</th>\n",
       "      <td>2205</td>\n",
       "      <td>0.005479</td>\n",
       "    </tr>\n",
       "    <tr>\n",
       "      <th>16</th>\n",
       "      <td>2206</td>\n",
       "      <td>0.352055</td>\n",
       "    </tr>\n",
       "    <tr>\n",
       "      <th>17</th>\n",
       "      <td>2207</td>\n",
       "      <td>0.363014</td>\n",
       "    </tr>\n",
       "    <tr>\n",
       "      <th>18</th>\n",
       "      <td>2208</td>\n",
       "      <td>0.032877</td>\n",
       "    </tr>\n",
       "    <tr>\n",
       "      <th>19</th>\n",
       "      <td>2209</td>\n",
       "      <td>0.022603</td>\n",
       "    </tr>\n",
       "  </tbody>\n",
       "</table>\n",
       "</div>"
      ],
      "text/plain": [
       "      id  rainfall\n",
       "0   2190  0.964384\n",
       "1   2191  0.964384\n",
       "2   2192  0.964384\n",
       "3   2193  0.087671\n",
       "4   2194  0.022603\n",
       "5   2195  0.723288\n",
       "6   2196  0.806164\n",
       "7   2197  0.964384\n",
       "8   2198  0.884247\n",
       "9   2199  0.739041\n",
       "10  2200  0.964384\n",
       "11  2201  0.056849\n",
       "12  2202  0.964384\n",
       "13  2203  0.964384\n",
       "14  2204  0.171918\n",
       "15  2205  0.005479\n",
       "16  2206  0.352055\n",
       "17  2207  0.363014\n",
       "18  2208  0.032877\n",
       "19  2209  0.022603"
      ]
     },
     "metadata": {},
     "output_type": "display_data"
    },
    {
     "data": {
      "application/vnd.microsoft.datawrangler.viewer.v0+json": {
       "columns": [
        {
         "name": "index",
         "rawType": "int64",
         "type": "integer"
        },
        {
         "name": "id",
         "rawType": "int64",
         "type": "integer"
        },
        {
         "name": "rainfall",
         "rawType": "float64",
         "type": "float"
        }
       ],
       "conversionMethod": "pd.DataFrame",
       "ref": "f254a8e9-26fb-4754-920f-97fe266ce277",
       "rows": [
        [
         "0",
         "2190",
         "0.9622408794753863"
        ],
        [
         "1",
         "2191",
         "0.962223109997902"
        ],
        [
         "2",
         "2192",
         "0.9631958162902499"
        ],
        [
         "3",
         "2193",
         "0.09056560029062516"
        ],
        [
         "4",
         "2194",
         "0.021258685544102658"
        ],
        [
         "5",
         "2195",
         "0.7111823144397043"
        ],
        [
         "6",
         "2196",
         "0.7938119264211407"
        ],
        [
         "7",
         "2197",
         "0.9622454031299371"
        ],
        [
         "8",
         "2198",
         "0.8771140443280921"
        ],
        [
         "9",
         "2199",
         "0.7229864379293127"
        ],
        [
         "10",
         "2200",
         "0.9620947444481216"
        ],
        [
         "11",
         "2201",
         "0.05835492802913118"
        ],
        [
         "12",
         "2202",
         "0.9622747304539241"
        ],
        [
         "13",
         "2203",
         "0.962266120586256"
        ],
        [
         "14",
         "2204",
         "0.1701944331435939"
        ],
        [
         "15",
         "2205",
         "0.003320553012955408"
        ],
        [
         "16",
         "2206",
         "0.3080921162609623"
        ],
        [
         "17",
         "2207",
         "0.32072117437641634"
        ],
        [
         "18",
         "2208",
         "0.033001098290731834"
        ],
        [
         "19",
         "2209",
         "0.021922350005671006"
        ]
       ],
       "shape": {
        "columns": 2,
        "rows": 20
       }
      },
      "text/html": [
       "<div>\n",
       "<style scoped>\n",
       "    .dataframe tbody tr th:only-of-type {\n",
       "        vertical-align: middle;\n",
       "    }\n",
       "\n",
       "    .dataframe tbody tr th {\n",
       "        vertical-align: top;\n",
       "    }\n",
       "\n",
       "    .dataframe thead th {\n",
       "        text-align: right;\n",
       "    }\n",
       "</style>\n",
       "<table border=\"1\" class=\"dataframe\">\n",
       "  <thead>\n",
       "    <tr style=\"text-align: right;\">\n",
       "      <th></th>\n",
       "      <th>id</th>\n",
       "      <th>rainfall</th>\n",
       "    </tr>\n",
       "  </thead>\n",
       "  <tbody>\n",
       "    <tr>\n",
       "      <th>0</th>\n",
       "      <td>2190</td>\n",
       "      <td>0.962241</td>\n",
       "    </tr>\n",
       "    <tr>\n",
       "      <th>1</th>\n",
       "      <td>2191</td>\n",
       "      <td>0.962223</td>\n",
       "    </tr>\n",
       "    <tr>\n",
       "      <th>2</th>\n",
       "      <td>2192</td>\n",
       "      <td>0.963196</td>\n",
       "    </tr>\n",
       "    <tr>\n",
       "      <th>3</th>\n",
       "      <td>2193</td>\n",
       "      <td>0.090566</td>\n",
       "    </tr>\n",
       "    <tr>\n",
       "      <th>4</th>\n",
       "      <td>2194</td>\n",
       "      <td>0.021259</td>\n",
       "    </tr>\n",
       "    <tr>\n",
       "      <th>5</th>\n",
       "      <td>2195</td>\n",
       "      <td>0.711182</td>\n",
       "    </tr>\n",
       "    <tr>\n",
       "      <th>6</th>\n",
       "      <td>2196</td>\n",
       "      <td>0.793812</td>\n",
       "    </tr>\n",
       "    <tr>\n",
       "      <th>7</th>\n",
       "      <td>2197</td>\n",
       "      <td>0.962245</td>\n",
       "    </tr>\n",
       "    <tr>\n",
       "      <th>8</th>\n",
       "      <td>2198</td>\n",
       "      <td>0.877114</td>\n",
       "    </tr>\n",
       "    <tr>\n",
       "      <th>9</th>\n",
       "      <td>2199</td>\n",
       "      <td>0.722986</td>\n",
       "    </tr>\n",
       "    <tr>\n",
       "      <th>10</th>\n",
       "      <td>2200</td>\n",
       "      <td>0.962095</td>\n",
       "    </tr>\n",
       "    <tr>\n",
       "      <th>11</th>\n",
       "      <td>2201</td>\n",
       "      <td>0.058355</td>\n",
       "    </tr>\n",
       "    <tr>\n",
       "      <th>12</th>\n",
       "      <td>2202</td>\n",
       "      <td>0.962275</td>\n",
       "    </tr>\n",
       "    <tr>\n",
       "      <th>13</th>\n",
       "      <td>2203</td>\n",
       "      <td>0.962266</td>\n",
       "    </tr>\n",
       "    <tr>\n",
       "      <th>14</th>\n",
       "      <td>2204</td>\n",
       "      <td>0.170194</td>\n",
       "    </tr>\n",
       "    <tr>\n",
       "      <th>15</th>\n",
       "      <td>2205</td>\n",
       "      <td>0.003321</td>\n",
       "    </tr>\n",
       "    <tr>\n",
       "      <th>16</th>\n",
       "      <td>2206</td>\n",
       "      <td>0.308092</td>\n",
       "    </tr>\n",
       "    <tr>\n",
       "      <th>17</th>\n",
       "      <td>2207</td>\n",
       "      <td>0.320721</td>\n",
       "    </tr>\n",
       "    <tr>\n",
       "      <th>18</th>\n",
       "      <td>2208</td>\n",
       "      <td>0.033001</td>\n",
       "    </tr>\n",
       "    <tr>\n",
       "      <th>19</th>\n",
       "      <td>2209</td>\n",
       "      <td>0.021922</td>\n",
       "    </tr>\n",
       "  </tbody>\n",
       "</table>\n",
       "</div>"
      ],
      "text/plain": [
       "      id  rainfall\n",
       "0   2190  0.962241\n",
       "1   2191  0.962223\n",
       "2   2192  0.963196\n",
       "3   2193  0.090566\n",
       "4   2194  0.021259\n",
       "5   2195  0.711182\n",
       "6   2196  0.793812\n",
       "7   2197  0.962245\n",
       "8   2198  0.877114\n",
       "9   2199  0.722986\n",
       "10  2200  0.962095\n",
       "11  2201  0.058355\n",
       "12  2202  0.962275\n",
       "13  2203  0.962266\n",
       "14  2204  0.170194\n",
       "15  2205  0.003321\n",
       "16  2206  0.308092\n",
       "17  2207  0.320721\n",
       "18  2208  0.033001\n",
       "19  2209  0.021922"
      ]
     },
     "metadata": {},
     "output_type": "display_data"
    }
   ],
   "source": [
    "from scipy.stats import rankdata\n",
    "\n",
    "best_pub = pd.read_csv('data/best_public.csv')\n",
    "best_pub['rainfall'] = rankdata(best_pub['rainfall']) / len(best_pub)\n",
    "\n",
    "ensemble_prediction = 1.07 * best_pub['rainfall'] - 0.005 * test_df['rf_rainfall'] - 0.06* test_df['xgb_rainfall'] - 0.005 * test_df['knn_rainfall']\n",
    "\n",
    "test_df['rainfall'] = ensemble_prediction\n",
    "\n",
    "submission = test_df[['id', 'rainfall']]\n",
    "\n",
    "display(submission.head(20))\n",
    "\n",
    "submission.to_csv('submissions/submission.csv', index=False)"
   ]
  }
 ],
 "metadata": {
  "kernelspec": {
   "display_name": "usr",
   "language": "python",
   "name": "python3"
  },
  "language_info": {
   "codemirror_mode": {
    "name": "ipython",
    "version": 3
   },
   "file_extension": ".py",
   "mimetype": "text/x-python",
   "name": "python",
   "nbconvert_exporter": "python",
   "pygments_lexer": "ipython3",
   "version": "3.12.9"
  }
 },
 "nbformat": 4,
 "nbformat_minor": 2
}
